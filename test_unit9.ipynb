{
 "cells": [
  {
   "cell_type": "code",
   "execution_count": 7,
   "metadata": {},
   "outputs": [],
   "source": [
    "import numpy as np\n",
    "import pandas as pd\n",
    "import matplotlib.pyplot as plt\n",
    "\n",
    "\n",
    "dat = pd.read_csv(\"amplitude (1).dat\",header= None)[0]\n",
    "dat = np.array(dat)\n",
    "\n",
    "def rearange(dat,m,t):\n",
    "    hist = []\n",
    "    for i in range(len(dat)-(m-1)*t):\n",
    "        dd = np.zeros(m)\n",
    "        for j in range(m):\n",
    "            dd[j] = dat[i+j*t]\n",
    "        #print(dd)\n",
    "        hist.append(dd)\n",
    "    return(hist)\n",
    "\n",
    "data = rearange(dat,2,8)\n",
    "data = np.array(data)\n",
    "plto = data[:,:2].transpose()"
   ]
  },
  {
   "cell_type": "code",
   "execution_count": 12,
   "metadata": {},
   "outputs": [
    {
     "data": {
      "text/plain": [
       "array([[3.61, 4.31, 4.83, ..., 1.25, 2.53, 4.03],\n",
       "       [4.23, 3.53, 2.84, ..., 8.75, 8.68, 8.22]])"
      ]
     },
     "execution_count": 12,
     "metadata": {},
     "output_type": "execute_result"
    }
   ],
   "source": [
    "data.transpose()"
   ]
  },
  {
   "cell_type": "code",
   "execution_count": 15,
   "metadata": {},
   "outputs": [
    {
     "data": {
      "text/plain": [
       "2113.0"
      ]
     },
     "execution_count": 15,
     "metadata": {},
     "output_type": "execute_result"
    }
   ],
   "source": [
    "def dimension_c(data, epsilon):\n",
    "\n",
    "    mins = np.zeros(len(data[1]))\n",
    "    maxs = np.zeros(len(data[1]))\n",
    "\n",
    "    for i in range(len(maxs)):\n",
    "        maxs[i] = max(data[:,i])\n",
    "    for i in range(len(mins)):\n",
    "        mins[i] = min(data[:,i])\n",
    "\n",
    "    \n",
    "    box_matrix = np.zeros((int(np.ceil((maxs[0] - mins[0])/epsilon)), int(np.ceil((maxs[1]- mins[1])/epsilon))))\n",
    "    for index in range(len(data)):\n",
    "        xcurr = data[index,:]\n",
    "        ind = np.zeros((len(data[0])))\n",
    "        for i in range(len(ind)):\n",
    "            ind[i] = np.ceil((xcurr[i] - mins[i])/epsilon)\n",
    "            if ind[i]==0:\n",
    "                ind[i]=1\n",
    "    \n",
    "        box_matrix[int(ind[0])-1,int(ind[1])-1] =1\n",
    "\n",
    "    N = sum(sum(box_matrix))    \n",
    "\n",
    "\n",
    "    return N\n",
    "dimension_c(data,0.5)"
   ]
  },
  {
   "cell_type": "code",
   "execution_count": null,
   "metadata": {},
   "outputs": [],
   "source": []
  }
 ],
 "metadata": {
  "kernelspec": {
   "display_name": "Python 3",
   "language": "python",
   "name": "python3"
  },
  "language_info": {
   "codemirror_mode": {
    "name": "ipython",
    "version": 3
   },
   "file_extension": ".py",
   "mimetype": "text/x-python",
   "name": "python",
   "nbconvert_exporter": "python",
   "pygments_lexer": "ipython3",
   "version": "3.10.12"
  }
 },
 "nbformat": 4,
 "nbformat_minor": 2
}
